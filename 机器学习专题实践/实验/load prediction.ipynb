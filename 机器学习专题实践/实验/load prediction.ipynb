{
    "cells": [
        {
            "cell_type": "markdown",
            "metadata": {
                "button": false,
                "new_sheet": false,
                "run_control": {
                    "read_only": false
                }
            },
            "source": [
                "In this notebook, I'm going to use different algorithms to complete a binary classification task in *Machine Learning in Practice* course.\n",
                "\n",
                "I aim to solve the problem statement by creating a plan of action, Here are some of the necessary steps:\n",
                "\n",
                "1. Data Exploration\n",
                "2. Exploratory Data Analysis (EDA)\n",
                "3. Data Pre-processing\n",
                "4. Predictive Modelling\n",
                "5. Predict on Test Set"
            ]
        },
        {
            "cell_type": "code",
            "execution_count": 1,
            "metadata": {
                "button": false,
                "new_sheet": false,
                "run_control": {
                    "read_only": false
                }
            },
            "outputs": [],
            "source": [
                "import numpy as np\n",
                "import matplotlib.pyplot as plt\n",
                "import pandas as pd\n",
                "import numpy as np\n",
                "from sklearn import preprocessing\n",
                "import seaborn as sns\n",
                "import warnings\n",
                "warnings.filterwarnings(\"ignore\")\n",
                "%matplotlib inline"
            ]
        },
        {
            "cell_type": "markdown",
            "metadata": {
                "button": false,
                "new_sheet": false,
                "run_control": {
                    "read_only": false
                }
            },
            "source": [
                "# <center>1. Data Exploration\n",
                "### About dataset"
            ]
        },
        {
            "cell_type": "markdown",
            "metadata": {
                "button": false,
                "new_sheet": false,
                "run_control": {
                    "read_only": false
                }
            },
            "source": [
                "This dataset is about past loans. The __Loan_train.csv__ data set includes details of 346 customers whose loan are already paid off or defaulted. It includes following fields:\n",
                "\n",
                "| Field          | Description                                                                           |\n",
                "|----------------|---------------------------------------------------------------------------------------|\n",
                "| Loan_status    | Whether a loan is paid off on in collection                                           |\n",
                "| Principal      | Basic principal loan amount at the                                                    |\n",
                "| Terms          | Origination terms which can be weekly (7 days), biweekly, and monthly payoff schedule |\n",
                "| Effective_date | When the loan got originated and took effects                                         |\n",
                "| Due_date       | Since it’s one-time payoff schedule, each loan has one single due date                |\n",
                "| Age            | Age of applicant                                                                      |\n",
                "| Education      | Education of applicant                                                                |\n",
                "| Gender         | The gender of applicant                                                               |"
            ]
        },
        {
            "cell_type": "markdown",
            "metadata": {
                "button": false,
                "new_sheet": false,
                "run_control": {
                    "read_only": false
                }
            },
            "source": [
                "### Load Data From CSV File  "
            ]
        },
        {
            "cell_type": "code",
            "execution_count": 2,
            "metadata": {
                "button": false,
                "new_sheet": false,
                "run_control": {
                    "read_only": false
                }
            },
            "outputs": [
                {
                    "data": {
                        "text/html": [
                            "<div>\n",
                            "<style scoped>\n",
                            "    .dataframe tbody tr th:only-of-type {\n",
                            "        vertical-align: middle;\n",
                            "    }\n",
                            "\n",
                            "    .dataframe tbody tr th {\n",
                            "        vertical-align: top;\n",
                            "    }\n",
                            "\n",
                            "    .dataframe thead th {\n",
                            "        text-align: right;\n",
                            "    }\n",
                            "</style>\n",
                            "<table border=\"1\" class=\"dataframe\">\n",
                            "  <thead>\n",
                            "    <tr style=\"text-align: right;\">\n",
                            "      <th></th>\n",
                            "      <th>Unnamed: 0.1</th>\n",
                            "      <th>Unnamed: 0</th>\n",
                            "      <th>loan_status</th>\n",
                            "      <th>Principal</th>\n",
                            "      <th>terms</th>\n",
                            "      <th>effective_date</th>\n",
                            "      <th>due_date</th>\n",
                            "      <th>age</th>\n",
                            "      <th>education</th>\n",
                            "      <th>Gender</th>\n",
                            "    </tr>\n",
                            "  </thead>\n",
                            "  <tbody>\n",
                            "    <tr>\n",
                            "      <th>0</th>\n",
                            "      <td>0</td>\n",
                            "      <td>0</td>\n",
                            "      <td>PAIDOFF</td>\n",
                            "      <td>1000</td>\n",
                            "      <td>30</td>\n",
                            "      <td>9/8/2016</td>\n",
                            "      <td>10/7/2016</td>\n",
                            "      <td>45</td>\n",
                            "      <td>High School or Below</td>\n",
                            "      <td>male</td>\n",
                            "    </tr>\n",
                            "    <tr>\n",
                            "      <th>1</th>\n",
                            "      <td>2</td>\n",
                            "      <td>2</td>\n",
                            "      <td>PAIDOFF</td>\n",
                            "      <td>1000</td>\n",
                            "      <td>30</td>\n",
                            "      <td>9/8/2016</td>\n",
                            "      <td>10/7/2016</td>\n",
                            "      <td>33</td>\n",
                            "      <td>Bechalor</td>\n",
                            "      <td>female</td>\n",
                            "    </tr>\n",
                            "    <tr>\n",
                            "      <th>2</th>\n",
                            "      <td>3</td>\n",
                            "      <td>3</td>\n",
                            "      <td>PAIDOFF</td>\n",
                            "      <td>1000</td>\n",
                            "      <td>15</td>\n",
                            "      <td>9/8/2016</td>\n",
                            "      <td>9/22/2016</td>\n",
                            "      <td>27</td>\n",
                            "      <td>college</td>\n",
                            "      <td>male</td>\n",
                            "    </tr>\n",
                            "    <tr>\n",
                            "      <th>3</th>\n",
                            "      <td>4</td>\n",
                            "      <td>4</td>\n",
                            "      <td>PAIDOFF</td>\n",
                            "      <td>1000</td>\n",
                            "      <td>30</td>\n",
                            "      <td>9/9/2016</td>\n",
                            "      <td>10/8/2016</td>\n",
                            "      <td>28</td>\n",
                            "      <td>college</td>\n",
                            "      <td>female</td>\n",
                            "    </tr>\n",
                            "    <tr>\n",
                            "      <th>4</th>\n",
                            "      <td>6</td>\n",
                            "      <td>6</td>\n",
                            "      <td>PAIDOFF</td>\n",
                            "      <td>1000</td>\n",
                            "      <td>30</td>\n",
                            "      <td>9/9/2016</td>\n",
                            "      <td>10/8/2016</td>\n",
                            "      <td>29</td>\n",
                            "      <td>college</td>\n",
                            "      <td>male</td>\n",
                            "    </tr>\n",
                            "  </tbody>\n",
                            "</table>\n",
                            "</div>"
                        ],
                        "text/plain": [
                            "   Unnamed: 0.1  Unnamed: 0 loan_status  Principal  terms effective_date  \\\n",
                            "0             0           0     PAIDOFF       1000     30       9/8/2016   \n",
                            "1             2           2     PAIDOFF       1000     30       9/8/2016   \n",
                            "2             3           3     PAIDOFF       1000     15       9/8/2016   \n",
                            "3             4           4     PAIDOFF       1000     30       9/9/2016   \n",
                            "4             6           6     PAIDOFF       1000     30       9/9/2016   \n",
                            "\n",
                            "    due_date  age             education  Gender  \n",
                            "0  10/7/2016   45  High School or Below    male  \n",
                            "1  10/7/2016   33              Bechalor  female  \n",
                            "2  9/22/2016   27               college    male  \n",
                            "3  10/8/2016   28               college  female  \n",
                            "4  10/8/2016   29               college    male  "
                        ]
                    },
                    "execution_count": 2,
                    "metadata": {},
                    "output_type": "execute_result"
                }
            ],
            "source": [
                "df = pd.read_csv('./loan/train.csv')\n",
                "df.head()"
            ]
        },
        {
            "cell_type": "code",
            "execution_count": 3,
            "metadata": {},
            "outputs": [
                {
                    "data": {
                        "text/html": [
                            "<div>\n",
                            "<style scoped>\n",
                            "    .dataframe tbody tr th:only-of-type {\n",
                            "        vertical-align: middle;\n",
                            "    }\n",
                            "\n",
                            "    .dataframe tbody tr th {\n",
                            "        vertical-align: top;\n",
                            "    }\n",
                            "\n",
                            "    .dataframe thead th {\n",
                            "        text-align: right;\n",
                            "    }\n",
                            "</style>\n",
                            "<table border=\"1\" class=\"dataframe\">\n",
                            "  <thead>\n",
                            "    <tr style=\"text-align: right;\">\n",
                            "      <th></th>\n",
                            "      <th>Loan_status</th>\n",
                            "      <th>Principal</th>\n",
                            "      <th>Terms</th>\n",
                            "      <th>Age</th>\n",
                            "      <th>Education</th>\n",
                            "      <th>Gender</th>\n",
                            "      <th>Num of days</th>\n",
                            "    </tr>\n",
                            "  </thead>\n",
                            "  <tbody>\n",
                            "    <tr>\n",
                            "      <th>0</th>\n",
                            "      <td>PAIDOFF</td>\n",
                            "      <td>1000</td>\n",
                            "      <td>30</td>\n",
                            "      <td>45</td>\n",
                            "      <td>High School or Below</td>\n",
                            "      <td>male</td>\n",
                            "      <td>29</td>\n",
                            "    </tr>\n",
                            "    <tr>\n",
                            "      <th>1</th>\n",
                            "      <td>PAIDOFF</td>\n",
                            "      <td>1000</td>\n",
                            "      <td>30</td>\n",
                            "      <td>33</td>\n",
                            "      <td>Bechalor</td>\n",
                            "      <td>female</td>\n",
                            "      <td>29</td>\n",
                            "    </tr>\n",
                            "    <tr>\n",
                            "      <th>2</th>\n",
                            "      <td>PAIDOFF</td>\n",
                            "      <td>1000</td>\n",
                            "      <td>15</td>\n",
                            "      <td>27</td>\n",
                            "      <td>college</td>\n",
                            "      <td>male</td>\n",
                            "      <td>14</td>\n",
                            "    </tr>\n",
                            "    <tr>\n",
                            "      <th>3</th>\n",
                            "      <td>PAIDOFF</td>\n",
                            "      <td>1000</td>\n",
                            "      <td>30</td>\n",
                            "      <td>28</td>\n",
                            "      <td>college</td>\n",
                            "      <td>female</td>\n",
                            "      <td>29</td>\n",
                            "    </tr>\n",
                            "    <tr>\n",
                            "      <th>4</th>\n",
                            "      <td>PAIDOFF</td>\n",
                            "      <td>1000</td>\n",
                            "      <td>30</td>\n",
                            "      <td>29</td>\n",
                            "      <td>college</td>\n",
                            "      <td>male</td>\n",
                            "      <td>29</td>\n",
                            "    </tr>\n",
                            "  </tbody>\n",
                            "</table>\n",
                            "</div>"
                        ],
                        "text/plain": [
                            "  Loan_status  Principal  Terms  Age             Education  Gender  \\\n",
                            "0     PAIDOFF       1000     30   45  High School or Below    male   \n",
                            "1     PAIDOFF       1000     30   33              Bechalor  female   \n",
                            "2     PAIDOFF       1000     15   27               college    male   \n",
                            "3     PAIDOFF       1000     30   28               college  female   \n",
                            "4     PAIDOFF       1000     30   29               college    male   \n",
                            "\n",
                            "   Num of days  \n",
                            "0           29  \n",
                            "1           29  \n",
                            "2           14  \n",
                            "3           29  \n",
                            "4           29  "
                        ]
                    },
                    "execution_count": 3,
                    "metadata": {},
                    "output_type": "execute_result"
                }
            ],
            "source": [
                "# remove irrelevant column & rename row & process date feature\n",
                "\n",
                "df['Num of days'] = (pd.to_datetime(df['due_date']) - pd.to_datetime(df['effective_date'])).dt.days\n",
                "df.columns = [col.capitalize() for col in df.columns]\n",
                "df.drop(['Unnamed: 0.1', \"Unnamed: 0\", \"Effective_date\", \"Due_date\"], inplace=True, axis=1)\n",
                "df.head()"
            ]
        },
        {
            "cell_type": "code",
            "execution_count": 4,
            "metadata": {},
            "outputs": [
                {
                    "data": {
                        "text/plain": [
                            "Gender          2\n",
                            "Terms           3\n",
                            "Education       4\n",
                            "Principal       5\n",
                            "Num of days     6\n",
                            "Age            32\n",
                            "dtype: int64"
                        ]
                    },
                    "execution_count": 4,
                    "metadata": {},
                    "output_type": "execute_result"
                }
            ],
            "source": [
                "# Checking number of unique rows in each feature\n",
                "target = 'Loan_status'\n",
                "features = [attr for attr in df.columns if attr != target]\n",
                "category_features = ['Education', 'Gender']\n",
                "numeric_features = [attr for attr in features if not attr in category_features]\n",
                "df[features].nunique().sort_values()\n"
            ]
        },
        {
            "cell_type": "markdown",
            "metadata": {
                "button": false,
                "new_sheet": false,
                "run_control": {
                    "read_only": false
                }
            },
            "source": [
                "# <center> 2. Exploratory Data Analysis (EDA)"
            ]
        },
        {
            "cell_type": "code",
            "execution_count": 5,
            "metadata": {
                "button": false,
                "new_sheet": false,
                "run_control": {
                    "read_only": false
                }
            },
            "outputs": [
                {
                    "name": "stdout",
                    "output_type": "stream",
                    "text": [
                        "                           \u001b[1mVisualising Categorical Features & Target:                           \n"
                    ]
                },
                {
                    "data": {
                        "image/png": "[encoded data removed]",
                        "text/plain": [
                            "<Figure size 1000x400 with 2 Axes>"
                        ]
                    },
                    "metadata": {},
                    "output_type": "display_data"
                }
            ],
            "source": [
                "print('\\033[1mVisualising Categorical Features & Target:'.center(100))\n",
                "\n",
                "g = sns.FacetGrid(df, col=\"Gender\", hue=\"Loan_status\",  col_wrap=2, sharex=True)\n",
                "g.map(sns.countplot, 'Education', order=df['Education'].value_counts().index)\n",
                "g.axes[-1].legend()\n",
                "g.set_xticklabels(rotation=-10)\n",
                "g.fig.set_size_inches(10, 4)\n",
                "plt.tight_layout()\n",
                "plt.show()"
            ]
        },
        {
            "cell_type": "code",
            "execution_count": 6,
            "metadata": {},
            "outputs": [
                {
                    "name": "stdout",
                    "output_type": "stream",
                    "text": [
                        "                                 \u001b[1mNumeric Features Distribution                                  \n"
                    ]
                },
                {
                    "data": {
                        "image/png": "[encoded data removed]",
                        "text/plain": [
                            "<Figure size 1000x500 with 8 Axes>"
                        ]
                    },
                    "metadata": {},
                    "output_type": "display_data"
                }
            ],
            "source": [
                "#Visualising the numeric features \n",
                "\n",
                "print('\\033[1mNumeric Features Distribution'.center(100))\n",
                "\n",
                "fig, axs = plt.subplots(2, 4, figsize=(10, 5))\n",
                "for i in range(len(numeric_features)):\n",
                "    sns.histplot(df[numeric_features[i]], kde=True, color=list(np.random.rand(3)), ax=axs[0, i])\n",
                "    df.boxplot(numeric_features[i], ax=axs[1, i])\n",
                "    axs[0, i].set_xlabel(\"\")\n",
                "    axs[0, i].set_ylabel(\"\")\n",
                "axs[0, 0].set_ylabel('Count')\n",
                "plt.tight_layout()\n",
                "plt.show()"
            ]
        },
        {
            "cell_type": "markdown",
            "metadata": {
                "button": false,
                "new_sheet": false,
                "run_control": {
                    "read_only": false
                }
            },
            "source": [
                "# <center> 3. Data Pre-processing"
            ]
        },
        {
            "cell_type": "markdown",
            "metadata": {},
            "source": [
                "### \\[OPTIONAL\\] Deal with class imbalance\n",
                "\n",
                "**This module is only enabled when using SMOTE-NE to over-sample minority categories**"
            ]
        },
        {
            "cell_type": "code",
            "execution_count": 7,
            "metadata": {},
            "outputs": [
                {
                    "name": "stdout",
                    "output_type": "stream",
                    "text": [
                        "Note: you may need to restart the kernel to use updated packages.\n"
                    ]
                }
            ],
            "source": [
                "%pip install -U --quiet imbalanced-learn\n",
                "\n",
                "from imblearn.over_sampling import SMOTENC\n",
                "sampler = SMOTENC(category_features, random_state=42)\n",
                "def over_sample(df):\n",
                "    X, y = df.drop([target], axis=1), df[target]\n",
                "    new_X, new_y = sampler.fit_resample(X, y)\n",
                "    print(f\"Shape before resample: {df.shape}\")\n",
                "    new_df = pd.concat([new_y, new_X], axis=1)\n",
                "    print(f\"Shape after resample: {new_df.shape}\")\n",
                "    return new_df\n"
            ]
        },
        {
            "cell_type": "markdown",
            "metadata": {
                "button": false,
                "new_sheet": false,
                "run_control": {
                    "read_only": false
                }
            },
            "source": [
                "### Convert Categorical features to numerical values"
            ]
        },
        {
            "cell_type": "markdown",
            "metadata": {
                "button": false,
                "new_sheet": false,
                "run_control": {
                    "read_only": false
                }
            },
            "source": [
                "Lets convert `Gender` to binary value, that is, male to 0 and female to 1.\n",
                "\n",
                "Then, use one-hot encoding to convert `Education`. Note that the category value `Master or Above` of `Education` is extreamly rare in samples, so just remove it.\n"
            ]
        },
        {
            "cell_type": "code",
            "execution_count": 19,
            "metadata": {
                "button": false,
                "new_sheet": false,
                "run_control": {
                    "read_only": false
                }
            },
            "outputs": [],
            "source": [
                "def cvt_one_hot(df: pd.DataFrame):\n",
                "    new_df = pd.concat(\n",
                "        [df.drop([\"Education\"], axis=1), pd.get_dummies(df[\"Education\"])], axis=1\n",
                "    )\n",
                "    new_df[\"Gender\"].replace(to_replace=[\"male\", \"female\"], value=[0, 1], inplace=True)\n",
                "    if target in new_df.columns:\n",
                "        new_df[target].replace(\n",
                "            to_replace=[\"COLLECTION\", \"PAIDOFF\"], value=[0, 1], inplace=True\n",
                "        )\n",
                "    return new_df.drop([\"Master or Above\"], axis=1)"
            ]
        },
        {
            "cell_type": "markdown",
            "metadata": {},
            "source": [
                "### \\[OPTIONAL\\] Deal with Outliner\n",
                "**This module is only enabled when using quartile to remove outliner**"
            ]
        },
        {
            "cell_type": "code",
            "execution_count": 9,
            "metadata": {},
            "outputs": [],
            "source": [
                "def remove_outliner(df):\n",
                "    new_df = df.copy()\n",
                "    print(f\"Shape before removal: {df.shape}\")\n",
                "    for i in numeric_features:\n",
                "        Q1 = new_df[i].quantile(0.25)\n",
                "        Q3 = new_df[i].quantile(0.75)\n",
                "        IQR = Q3 - Q1\n",
                "        new_df = new_df[new_df[i] <= (Q3 + (1.5 * IQR))]\n",
                "        new_df = new_df[new_df[i] >= (Q1 - (1.5 * IQR))]\n",
                "        new_df = new_df.reset_index(drop=True)\n",
                "\n",
                "    print(f\"Shape after removal: {new_df.shape}\")\n",
                "    return new_df"
            ]
        },
        {
            "cell_type": "markdown",
            "metadata": {
                "button": false,
                "new_sheet": false,
                "run_control": {
                    "read_only": false
                }
            },
            "source": [
                "### Normalize Data "
            ]
        },
        {
            "cell_type": "markdown",
            "metadata": {
                "button": false,
                "new_sheet": false,
                "run_control": {
                    "read_only": false
                }
            },
            "source": [
                "Data Standardization give data zero mean and unit variance (technically should be done after train test split )"
            ]
        },
        {
            "cell_type": "code",
            "execution_count": 10,
            "metadata": {
                "button": false,
                "new_sheet": false,
                "run_control": {
                    "read_only": false
                }
            },
            "outputs": [],
            "source": [
                "def normalize(df, excluded_columns=[target]):\n",
                "    scaler = preprocessing.StandardScaler()\n",
                "    if isinstance(df, pd.DataFrame):\n",
                "        X = df.drop(excluded_columns, axis=1)\n",
                "        return pd.concat([df[excluded_columns], pd.DataFrame(scaler.fit_transform(X), columns=X.columns, index=df.index)], axis=1)\n",
                "    return scaler.fit_transform(df)"
            ]
        },
        {
            "cell_type": "markdown",
            "metadata": {
                "button": false,
                "new_sheet": false,
                "run_control": {
                    "read_only": false
                }
            },
            "source": [
                "# <center> 4. Predictive Modelling"
            ]
        },
        {
            "cell_type": "markdown",
            "metadata": {
                "button": false,
                "new_sheet": false,
                "run_control": {
                    "read_only": false
                }
            },
            "source": [
                "In this section, I will implement the following algorithms:\n",
                "- CatBoost\n",
                "- Support Vector Machine\n",
                "- Logistic Regression\n",
                "\n",
                "The experiment settings are as follows:\n",
                "1. SMOTE-NC vs without SMOTE-NC for each algorithms\n",
                "2. CatBoost vs Support Vector Machine vs Logistic Regression\n",
                "\n",
                "\n"
            ]
        },
        {
            "cell_type": "code",
            "execution_count": 11,
            "metadata": {},
            "outputs": [],
            "source": [
                "# define necessary methods\n",
                "from sklearn.model_selection import train_test_split\n",
                "from sklearn.metrics import (\n",
                "    accuracy_score,\n",
                "    f1_score,\n",
                "    balanced_accuracy_score\n",
                ")\n",
                "\n",
                "\n",
                "def evaluate(y_true, y_pred):\n",
                "    accuracy = accuracy_score(y_true, y_pred)\n",
                "    balanced_accuracy = balanced_accuracy_score(y_true, y_pred)\n",
                "    f1 = f1_score(y_true, y_pred, average='macro')\n",
                "\n",
                "    print(f\"Accuracy: {accuracy:.2f}\")\n",
                "    print(f\"Macro F1 Score: {f1:.2f}\")\n",
                "    print(f\"Balanced Accuracy Score: {balanced_accuracy:.2f}\")\n",
                "\n",
                "\n",
                "def run_algorithm(classifier, over_sampled=False, one_hot=True):\n",
                "    my_df = over_sample(df) if over_sampled else remove_outliner(df)\n",
                "    if one_hot:\n",
                "        my_df = cvt_one_hot(my_df)\n",
                "    X = my_df.drop([target], axis=1)\n",
                "    y = my_df[target]\n",
                "    train_X, test_X, train_y, test_y = train_test_split(\n",
                "        X, y, train_size=0.8, test_size=0.2, random_state=100\n",
                "    )\n",
                "    if one_hot:\n",
                "        train_X, test_X, train_y, test_y = (\n",
                "            normalize(train_X.values),\n",
                "            normalize(test_X.values),\n",
                "            train_y.values, \n",
                "            test_y.values,\n",
                "        )\n",
                "    else:\n",
                "        train_X, test_X = normalize(train_X, category_features), normalize(test_X, category_features)\n",
                "        train_y.replace(to_replace=['COLLECTION', 'PAIDOFF'], value=[0, 1], inplace=True)\n",
                "        test_y.replace(to_replace=['COLLECTION', 'PAIDOFF'], value=[0, 1], inplace=True)\n",
                "    \n",
                "    classifier.fit(train_X, train_y)\n",
                "    y_pred = classifier.predict(test_X)\n",
                "    evaluate(test_y, y_pred)"
            ]
        },
        {
            "cell_type": "markdown",
            "metadata": {},
            "source": [
                "### Logistic Regression\n",
                "First of all, we should do extra feature selection before using linear regression"
            ]
        },
        {
            "cell_type": "code",
            "execution_count": 12,
            "metadata": {},
            "outputs": [
                {
                    "name": "stdout",
                    "output_type": "stream",
                    "text": [
                        "Note: you may need to restart the kernel to use updated packages.\n",
                        "Shape before removal: (346, 7)\n",
                        "Shape after removal: (325, 7)\n"
                    ]
                },
                {
                    "data": {
                        "text/html": [
                            "<div>\n",
                            "<style scoped>\n",
                            "    .dataframe tbody tr th:only-of-type {\n",
                            "        vertical-align: middle;\n",
                            "    }\n",
                            "\n",
                            "    .dataframe tbody tr th {\n",
                            "        vertical-align: top;\n",
                            "    }\n",
                            "\n",
                            "    .dataframe thead th {\n",
                            "        text-align: right;\n",
                            "    }\n",
                            "</style>\n",
                            "<table border=\"1\" class=\"dataframe\">\n",
                            "  <thead>\n",
                            "    <tr style=\"text-align: right;\">\n",
                            "      <th></th>\n",
                            "      <th>Features</th>\n",
                            "      <th>VIF</th>\n",
                            "    </tr>\n",
                            "  </thead>\n",
                            "  <tbody>\n",
                            "    <tr>\n",
                            "      <th>0</th>\n",
                            "      <td>Bechalor</td>\n",
                            "      <td>inf</td>\n",
                            "    </tr>\n",
                            "    <tr>\n",
                            "      <th>1</th>\n",
                            "      <td>High School or Below</td>\n",
                            "      <td>inf</td>\n",
                            "    </tr>\n",
                            "    <tr>\n",
                            "      <th>2</th>\n",
                            "      <td>Master or Above</td>\n",
                            "      <td>inf</td>\n",
                            "    </tr>\n",
                            "    <tr>\n",
                            "      <th>3</th>\n",
                            "      <td>college</td>\n",
                            "      <td>inf</td>\n",
                            "    </tr>\n",
                            "    <tr>\n",
                            "      <th>4</th>\n",
                            "      <td>Education</td>\n",
                            "      <td>inf</td>\n",
                            "    </tr>\n",
                            "    <tr>\n",
                            "      <th>5</th>\n",
                            "      <td>Num of days</td>\n",
                            "      <td>4.42</td>\n",
                            "    </tr>\n",
                            "    <tr>\n",
                            "      <th>6</th>\n",
                            "      <td>Terms</td>\n",
                            "      <td>4.31</td>\n",
                            "    </tr>\n",
                            "    <tr>\n",
                            "      <th>7</th>\n",
                            "      <td>Principal</td>\n",
                            "      <td>1.43</td>\n",
                            "    </tr>\n",
                            "    <tr>\n",
                            "      <th>8</th>\n",
                            "      <td>Age</td>\n",
                            "      <td>1.05</td>\n",
                            "    </tr>\n",
                            "    <tr>\n",
                            "      <th>9</th>\n",
                            "      <td>Gender</td>\n",
                            "      <td>1.02</td>\n",
                            "    </tr>\n",
                            "  </tbody>\n",
                            "</table>\n",
                            "</div>"
                        ],
                        "text/plain": [
                            "               Features   VIF\n",
                            "0              Bechalor   inf\n",
                            "1  High School or Below   inf\n",
                            "2       Master or Above   inf\n",
                            "3               college   inf\n",
                            "4             Education   inf\n",
                            "5           Num of days  4.42\n",
                            "6                 Terms  4.31\n",
                            "7             Principal  1.43\n",
                            "8                   Age  1.05\n",
                            "9                Gender  1.02"
                        ]
                    },
                    "execution_count": 12,
                    "metadata": {},
                    "output_type": "execute_result"
                }
            ],
            "source": [
                "%pip install --quiet statsmodels\n",
                "from statsmodels.stats.outliers_influence import variance_inflation_factor\n",
                "one_hot_df = normalize(cvt_one_hot(remove_outliner(df)))\n",
                "vif = pd.DataFrame()\n",
                "X = one_hot_df.drop([target], axis=1)\n",
                "vif['Features'] = X.columns\n",
                "vif['VIF'] = [variance_inflation_factor(X.values, i) for i in range(X.shape[1])]\n",
                "vif['VIF'] = round(vif['VIF'], 2)\n",
                "vif = vif.sort_values(by = \"VIF\", ascending = False)\n",
                "vif.reset_index(drop=True, inplace=True)\n",
                "vif"
            ]
        },
        {
            "cell_type": "code",
            "execution_count": 20,
            "metadata": {},
            "outputs": [
                {
                    "name": "stdout",
                    "output_type": "stream",
                    "text": [
                        "normal\n",
                        "Shape before removal: (346, 7)\n",
                        "Shape after removal: (325, 7)\n",
                        "Accuracy: 0.77\n",
                        "Macro F1 Score: 0.43\n",
                        "Balanced Accuracy Score: 0.50\n",
                        "SMOTE-NC\n",
                        "Shape before resample: (346, 7)\n",
                        "Shape after resample: (520, 7)\n",
                        "Accuracy: 0.57\n",
                        "Macro F1 Score: 0.56\n",
                        "Balanced Accuracy Score: 0.58\n",
                        "class balanced\n",
                        "Shape before removal: (346, 7)\n",
                        "Shape after removal: (325, 7)\n",
                        "Accuracy: 0.51\n",
                        "Macro F1 Score: 0.49\n",
                        "Balanced Accuracy Score: 0.59\n"
                    ]
                }
            ],
            "source": [
                "from sklearn.linear_model import LogisticRegression\n",
                "print(\"normal\")\n",
                "run_algorithm(LogisticRegression(random_state=42))\n",
                "print(\"SMOTE-NC\")\n",
                "run_algorithm(LogisticRegression(random_state=42), over_sampled=True)\n",
                "print(\"class balanced\")\n",
                "run_algorithm(LogisticRegression(class_weight='balanced', random_state=42))\n"
            ]
        },
        {
            "cell_type": "markdown",
            "metadata": {},
            "source": [
                "# Support Vector Machine"
            ]
        },
        {
            "cell_type": "code",
            "execution_count": 21,
            "metadata": {},
            "outputs": [
                {
                    "name": "stdout",
                    "output_type": "stream",
                    "text": [
                        "normal\n",
                        "Shape before removal: (346, 7)\n",
                        "Shape after removal: (325, 7)\n",
                        "Accuracy: 0.77\n",
                        "Macro F1 Score: 0.43\n",
                        "Balanced Accuracy Score: 0.50\n",
                        "SMOTE-NC\n",
                        "Shape before resample: (346, 7)\n",
                        "Shape after resample: (520, 7)\n",
                        "Accuracy: 0.67\n",
                        "Macro F1 Score: 0.67\n",
                        "Balanced Accuracy Score: 0.69\n",
                        "class balanced\n",
                        "Shape before removal: (346, 7)\n",
                        "Shape after removal: (325, 7)\n",
                        "Accuracy: 0.52\n",
                        "Macro F1 Score: 0.50\n",
                        "Balanced Accuracy Score: 0.57\n"
                    ]
                }
            ],
            "source": [
                "from sklearn import svm\n",
                "print(\"normal\")\n",
                "run_algorithm(svm.SVC(random_state=42, kernel='rbf'))\n",
                "print(\"SMOTE-NC\")\n",
                "run_algorithm(svm.SVC(random_state=42, kernel='rbf'), over_sampled=True)\n",
                "print(\"class balanced\")\n",
                "run_algorithm(svm.SVC(random_state=42, kernel='rbf', class_weight='balanced'))"
            ]
        },
        {
            "cell_type": "markdown",
            "metadata": {},
            "source": [
                "### CatBoost"
            ]
        },
        {
            "cell_type": "code",
            "execution_count": 15,
            "metadata": {},
            "outputs": [
                {
                    "name": "stdout",
                    "output_type": "stream",
                    "text": [
                        "Note: you may need to restart the kernel to use updated packages.\n",
                        "normal\n",
                        "Shape before removal: (346, 7)\n",
                        "Shape after removal: (325, 7)\n",
                        "Accuracy: 0.77\n",
                        "Macro F1 Score: 0.43\n",
                        "Balanced Accuracy Score: 0.50\n",
                        "SMOTE-NC\n",
                        "Shape before resample: (346, 7)\n",
                        "Shape after resample: (520, 7)\n",
                        "Accuracy: 0.66\n",
                        "Macro F1 Score: 0.66\n",
                        "Balanced Accuracy Score: 0.67\n",
                        "class balanced\n",
                        "Shape before removal: (346, 7)\n",
                        "Shape after removal: (325, 7)\n",
                        "Accuracy: 0.63\n",
                        "Macro F1 Score: 0.59\n",
                        "Balanced Accuracy Score: 0.64\n"
                    ]
                }
            ],
            "source": [
                "%pip install -U --quiet catboost\n",
                "from catboost import CatBoostClassifier\n",
                "print(\"normal\")\n",
                "run_algorithm(CatBoostClassifier(iterations=300,  cat_features=category_features, verbose=0, random_seed=42), one_hot=False)\n",
                "print(\"SMOTE-NC\")\n",
                "run_algorithm(CatBoostClassifier(iterations=300, cat_features=category_features, verbose=0, random_seed=42), one_hot=False, over_sampled=True)\n",
                "print(\"class balanced\")\n",
                "run_algorithm(CatBoostClassifier(iterations=300, auto_class_weights='Balanced', cat_features=category_features, verbose=0, random_seed=42), one_hot=False)"
            ]
        },
        {
            "cell_type": "markdown",
            "metadata": {},
            "source": [
                "# <center> 5. Predict on Test Set\n",
                "### Load data & preprocess & Train\n",
                "\n"
            ]
        },
        {
            "cell_type": "code",
            "execution_count": 22,
            "metadata": {},
            "outputs": [
                {
                    "name": "stdout",
                    "output_type": "stream",
                    "text": [
                        "Shape before resample: (346, 7)\n",
                        "Shape after resample: (520, 7)\n",
                        "   Loan_status  Principal  Terms  Age  Education  Gender  Num of days\n",
                        "0            1       1000     30   45          1       0           29\n",
                        "1            1       1000     30   33          0       1           29\n",
                        "2            1       1000     15   27          3       0           14\n",
                        "3            1       1000     30   28          3       1           29\n",
                        "4            1       1000     30   29          3       0           29 \n",
                        "\n",
                        "    Principal  Terms  Age             Education  Gender  Num of days\n",
                        "0       1000     30   50              Bechalor  female           29\n",
                        "1        300      7   35       Master or Above    male            6\n",
                        "2       1000     30   43  High School or Below  female           29\n",
                        "3       1000     30   26               college    male           29\n",
                        "4        800     15   29              Bechalor    male           14\n"
                    ]
                },
                {
                    "data": {
                        "text/html": [
                            "<style>#sk-container-id-2 {color: black;background-color: white;}#sk-container-id-2 pre{padding: 0;}#sk-container-id-2 div.sk-toggleable {background-color: white;}#sk-container-id-2 label.sk-toggleable__label {cursor: pointer;display: block;width: 100%;margin-bottom: 0;padding: 0.3em;box-sizing: border-box;text-align: center;}#sk-container-id-2 label.sk-toggleable__label-arrow:before {content: \"▸\";float: left;margin-right: 0.25em;color: #696969;}#sk-container-id-2 label.sk-toggleable__label-arrow:hover:before {color: black;}#sk-container-id-2 div.sk-estimator:hover label.sk-toggleable__label-arrow:before {color: black;}#sk-container-id-2 div.sk-toggleable__content {max-height: 0;max-width: 0;overflow: hidden;text-align: left;background-color: #f0f8ff;}#sk-container-id-2 div.sk-toggleable__content pre {margin: 0.2em;color: black;border-radius: 0.25em;background-color: #f0f8ff;}#sk-container-id-2 input.sk-toggleable__control:checked~div.sk-toggleable__content {max-height: 200px;max-width: 100%;overflow: auto;}#sk-container-id-2 input.sk-toggleable__control:checked~label.sk-toggleable__label-arrow:before {content: \"▾\";}#sk-container-id-2 div.sk-estimator input.sk-toggleable__control:checked~label.sk-toggleable__label {background-color: #d4ebff;}#sk-container-id-2 div.sk-label input.sk-toggleable__control:checked~label.sk-toggleable__label {background-color: #d4ebff;}#sk-container-id-2 input.sk-hidden--visually {border: 0;clip: rect(1px 1px 1px 1px);clip: rect(1px, 1px, 1px, 1px);height: 1px;margin: -1px;overflow: hidden;padding: 0;position: absolute;width: 1px;}#sk-container-id-2 div.sk-estimator {font-family: monospace;background-color: #f0f8ff;border: 1px dotted black;border-radius: 0.25em;box-sizing: border-box;margin-bottom: 0.5em;}#sk-container-id-2 div.sk-estimator:hover {background-color: #d4ebff;}#sk-container-id-2 div.sk-parallel-item::after {content: \"\";width: 100%;border-bottom: 1px solid gray;flex-grow: 1;}#sk-container-id-2 div.sk-label:hover label.sk-toggleable__label {background-color: #d4ebff;}#sk-container-id-2 div.sk-serial::before {content: \"\";position: absolute;border-left: 1px solid gray;box-sizing: border-box;top: 0;bottom: 0;left: 50%;z-index: 0;}#sk-container-id-2 div.sk-serial {display: flex;flex-direction: column;align-items: center;background-color: white;padding-right: 0.2em;padding-left: 0.2em;position: relative;}#sk-container-id-2 div.sk-item {position: relative;z-index: 1;}#sk-container-id-2 div.sk-parallel {display: flex;align-items: stretch;justify-content: center;background-color: white;position: relative;}#sk-container-id-2 div.sk-item::before, #sk-container-id-2 div.sk-parallel-item::before {content: \"\";position: absolute;border-left: 1px solid gray;box-sizing: border-box;top: 0;bottom: 0;left: 50%;z-index: -1;}#sk-container-id-2 div.sk-parallel-item {display: flex;flex-direction: column;z-index: 1;position: relative;background-color: white;}#sk-container-id-2 div.sk-parallel-item:first-child::after {align-self: flex-end;width: 50%;}#sk-container-id-2 div.sk-parallel-item:last-child::after {align-self: flex-start;width: 50%;}#sk-container-id-2 div.sk-parallel-item:only-child::after {width: 0;}#sk-container-id-2 div.sk-dashed-wrapped {border: 1px dashed gray;margin: 0 0.4em 0.5em 0.4em;box-sizing: border-box;padding-bottom: 0.4em;background-color: white;}#sk-container-id-2 div.sk-label label {font-family: monospace;font-weight: bold;display: inline-block;line-height: 1.2em;}#sk-container-id-2 div.sk-label-container {text-align: center;}#sk-container-id-2 div.sk-container {/* jupyter's `normalize.less` sets `[hidden] { display: none; }` but bootstrap.min.css set `[hidden] { display: none !important; }` so we also need the `!important` here to be able to override the default hidden behavior on the sphinx rendered scikit-learn.org. See: https://github.com/scikit-learn/scikit-learn/issues/21755 */display: inline-block !important;position: relative;}#sk-container-id-2 div.sk-text-repr-fallback {display: none;}</style><div id=\"sk-container-id-2\" class=\"sk-top-container\"><div class=\"sk-text-repr-fallback\"><pre>SVC(random_state=42)</pre><b>In a Jupyter environment, please rerun this cell to show the HTML representation or trust the notebook. <br />On GitHub, the HTML representation is unable to render, please try loading this page with nbviewer.org.</b></div><div class=\"sk-container\" hidden><div class=\"sk-item\"><div class=\"sk-estimator sk-toggleable\"><input class=\"sk-toggleable__control sk-hidden--visually\" id=\"sk-estimator-id-2\" type=\"checkbox\" checked><label for=\"sk-estimator-id-2\" class=\"sk-toggleable__label sk-toggleable__label-arrow\">SVC</label><div class=\"sk-toggleable__content\"><pre>SVC(random_state=42)</pre></div></div></div></div></div>"
                        ],
                        "text/plain": [
                            "SVC(random_state=42)"
                        ]
                    },
                    "execution_count": 22,
                    "metadata": {},
                    "output_type": "execute_result"
                }
            ],
            "source": [
                "test_df = pd.read_csv(\"./loan/test.csv\")\n",
                "test_df[\"Num of days\"] = (\n",
                "    pd.to_datetime(test_df[\"due_date\"]) - pd.to_datetime(test_df[\"effective_date\"])\n",
                ").dt.days\n",
                "test_df.columns = [col.capitalize() for col in test_df.columns]\n",
                "test_df.drop(\n",
                "    [\"Unnamed: 0.1\", \"Unnamed: 0\", \"Effective_date\", \"Due_date\"], inplace=True, axis=1\n",
                ")\n",
                "test_X = normalize(cvt_one_hot(test_df).values)\n",
                "\n",
                "train_df = cvt_one_hot(over_sample(df))\n",
                "train_X, train_y = normalize(train_df.drop([target], axis=1).values), train_df[target]\n",
                "print(train_df.head(), \"\\n\\n\", test_df.head())\n",
                "classifer = svm.SVC(random_state=42, kernel='rbf')\n",
                "classifer.fit(train_X, train_y)"
            ]
        },
        {
            "cell_type": "code",
            "execution_count": 17,
            "metadata": {},
            "outputs": [],
            "source": [
                "with open('58121102.txt', 'w') as file:\n",
                "    file.writelines(['PAIDOFF\\n' if y else 'COLLECTION\\n' for y in classifer.predict(test_X)])"
            ]
        }
    ],
    "metadata": {
        "kernelspec": {
            "display_name": "Python 3.6",
            "language": "python",
            "name": "python3"
        },
        "language_info": {
            "codemirror_mode": {
                "name": "ipython",
                "version": 3
            },
            "file_extension": ".py",
            "mimetype": "text/x-python",
            "name": "python",
            "nbconvert_exporter": "python",
            "pygments_lexer": "ipython3",
            "version": "3.11.5"
        }
    },
    "nbformat": 4,
    "nbformat_minor": 2
}
